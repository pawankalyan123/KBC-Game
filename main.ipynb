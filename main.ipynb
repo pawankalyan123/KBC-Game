{
  "nbformat": 4,
  "nbformat_minor": 0,
  "metadata": {
    "colab": {
      "provenance": [],
      "authorship_tag": "ABX9TyOwdG224ntAl+Che+9UE3EX"
    },
    "kernelspec": {
      "name": "python3",
      "display_name": "Python 3"
    },
    "language_info": {
      "name": "python"
    }
  },
  "cells": [
    {
      "cell_type": "markdown",
      "source": [
        "# **KBC GAME**"
      ],
      "metadata": {
        "id": "YtjG3sygvaDQ"
      }
    },
    {
      "cell_type": "markdown",
      "source": [
        "# **Rules and Conditions**\n",
        "\n",
        "1.   **Question Presentation**: The Question gets displayed along with four possible answers labeled as A, B, C, and D. The contestant must select the correct answer from these options.\n",
        "\n",
        "2.  **Time Limit**: Contestants have a limited amount of time to answer each question. If the contestant fails to provide an answer within the time limit, it is considered incorrect.\n",
        "\n",
        "3.  There are **3 lifelines** in this game:\n",
        "\n",
        "      *   **50:50**\n",
        "      *   **Audience Poll**\n",
        "      *   **Double Dip**\n",
        "\n",
        "     **Note**:Each lifeline can be used only once.\n",
        "\n",
        "\n",
        "4.   The contestant can choose atleast one of the lifelines if he wants.\n",
        "\n",
        "\n",
        "5.  **Prize Money**: Each correct answer contributes to the contestant's prize money, which increases with each question. The amount awarded for each question is predetermined and progressively increases.   \n",
        "\n",
        "\n",
        "6.   **Users can quit from game anytime and receive the amount he gained**.if the user has selected an incorrect option, the amount will be given according to stage cleared.\n",
        "\n",
        "\n",
        "7.   There will be 2 stages.If the contestant selects incorrect option in 1st stage he will be rewarded Rs.0 and if in 2nd stage he will be rewarded 50% of total amount he received till that question. \n",
        "\n",
        "\n",
        "8.  1st Stage:5 Questions,2nd Stage:10 Questions,Total Cash Prize:1 Crore.\n",
        "\n",
        "\n",
        "9.   ***Users cannot use another lifeline after taking Double Dip***.\n",
        "\n",
        "\n",
        "10.   ***Quit option is not available after taking Double Dip.***\n",
        "\n",
        "\n",
        "11.  After taking Audience Poll, the user can also take another lifeline except for Double Dip. The same is for 50:50.   \n",
        "\n",
        "\n",
        "\n"
      ],
      "metadata": {
        "id": "xLcZhz8QubFx"
      }
    },
    {
      "cell_type": "markdown",
      "source": [
        "**Technologies Used:**\n",
        "\n",
        "*   Python\n",
        "*   Numpy\n",
        "*   Matplotlib\n"
      ],
      "metadata": {
        "id": "w7vsZl9J3EeW"
      }
    },
    {
      "cell_type": "code",
      "source": [
        "import numpy\n",
        "import matplotlib.pyplot as plt\n",
        "import random\n",
        "import pandas as pd"
      ],
      "metadata": {
        "id": "JL14DjeDH2TE"
      },
      "execution_count": 63,
      "outputs": []
    },
    {
      "cell_type": "code",
      "source": [
        "###Initializations\n",
        "CashPrizes=[1000,2000,3000,5000,10000,20000,40000,80000,160000,320000,640000,1250000,2500000,5000000,10000000]\n",
        "Answers=['D','A','D','C','A','A','A','A','B','A','A','A','A','B','C']\n",
        "Lifelines=[0,0,0]\n",
        "Lifelines_per_question=[0,0,0]\n",
        "Questions=[]\n",
        "OptionA=[]\n",
        "OptionB=[]\n",
        "OptionC=[]\n",
        "OptionD=[]\n",
        "Amount_Gained=0\n",
        "global Amount_Gained\n",
        "with open('/content/Questions.txt','r') as f:\n",
        "  Questions=f.readlines()\n",
        "\n",
        "with open('/content/option1.txt','r') as f:\n",
        "  OptionA=f.readlines()\n",
        "\n",
        "with open('/content/option2.txt','r') as f:\n",
        "  OptionB=f.readlines()\n",
        "\n",
        "with open('/content/option3.txt','r') as f:\n",
        "  OptionC=f.readlines()\n",
        "\n",
        "with open('/content/option4.txt','r') as f:\n",
        "  OptionD=f.readlines()\n"
      ],
      "metadata": {
        "id": "FdJy7e2xIFlk"
      },
      "execution_count": 64,
      "outputs": []
    },
    {
      "cell_type": "code",
      "source": [
        "def Display_Question(Qno):\n",
        "  print()\n",
        "  question=Questions[Qno][:-1]\n",
        "  print(str(Qno+1)+\")\",question)\n",
        "  print(\"A. \"+OptionA[Qno][:-1])\n",
        "  print(\"B. \"+OptionB[Qno][:-1])\n",
        "  print(\"C. \"+OptionC[Qno][:-1])\n",
        "  print(\"D. \"+OptionD[Qno][:-1])"
      ],
      "metadata": {
        "id": "71jBuSirr7BG"
      },
      "execution_count": 65,
      "outputs": []
    },
    {
      "cell_type": "code",
      "source": [
        "def Check_Answer(option,Qno):\n",
        "  global Amount_Gained\n",
        "  if Answers[Qno]==option:\n",
        "    return CashPrizes[Qno]\n",
        "  elif Qno<5:\n",
        "    Amount_Gained=0\n",
        "  \n",
        "  return 0\n"
      ],
      "metadata": {
        "id": "xwaIorXJiYSG"
      },
      "execution_count": 66,
      "outputs": []
    },
    {
      "cell_type": "code",
      "source": [
        "def Allote5050_Questions(a,b,c,d,k,Qno):\n",
        "  if k=='A':\n",
        "    a=OptionA[Qno][:-1]\n",
        "  elif k=='B':\n",
        "    b=OptionB[Qno][:-1]\n",
        "  elif k=='C':\n",
        "    c=OptionC[Qno][:-1]\n",
        "  elif k=='D':\n",
        "    d=OptionD[Qno][:-1]\n",
        "  return [a,b,c,d]\n"
      ],
      "metadata": {
        "id": "AUgMDzgqvaR3"
      },
      "execution_count": 67,
      "outputs": []
    },
    {
      "cell_type": "code",
      "source": [
        "def Fifty_50(Qno):\n",
        "  options=['A','B','C','D']\n",
        "  answer=Answers[Qno]\n",
        "  a,b,c,d='','','',''\n",
        "  options.remove(answer)\n",
        "  rn=random.randint(0,2)\n",
        "  second_option=options[rn]\n",
        "  [a,b,c,d]=Allote5050_Questions(a,b,c,d,answer,Qno)\n",
        "  [a,b,c,d]=Allote5050_Questions(a,b,c,d,second_option,Qno)\n",
        "  question=Questions[Qno][:-1]\n",
        "  print(str(Qno+1)+\")\",question)\n",
        "  print(\"A. \"+a)\n",
        "  print(\"B. \"+b)\n",
        "  print(\"C. \"+c)\n",
        "  print(\"D. \"+d)\n",
        "  print(\"\\nWould u like to take any lifeline Again,if yes enter 9\")\n",
        "  print(\"Choose any Option(A/B/C/D) or you can Quit by entering 0\\n\")\n",
        "  return input_validation(Qno,[a,b,c,d],[1,0,0])\n"
      ],
      "metadata": {
        "id": "5gqZ4BvTME0P"
      },
      "execution_count": 68,
      "outputs": []
    },
    {
      "cell_type": "code",
      "source": [
        "def Allote_random(k,r1,r2,r3,r4,start,end,subtract_r,total):\n",
        "  r11,r22,r33,r44=0,0,0,0\n",
        "  if k=='A':\n",
        "    r11=abs(total-random.randint(start,end)-subtract_r)\n",
        "  elif k=='B':\n",
        "    r22=abs(total-random.randint(start,end)-subtract_r)\n",
        "  elif k=='C':\n",
        "    r33=abs(total-random.randint(start,end)-subtract_r)\n",
        "  elif k=='D':\n",
        "    r44=abs(total-random.randint(start,end)-subtract_r)\n",
        "  \n",
        "  return [r1 | r11,r2 | r22,r3 | r33,r4 | r44]\n"
      ],
      "metadata": {
        "id": "MK9lCS9B_7Vf"
      },
      "execution_count": 69,
      "outputs": []
    },
    {
      "cell_type": "code",
      "source": [
        "def Audience_Poll(Qno,arr):\n",
        "  second_lifeline=0\n",
        "  fifty50_options=[0,0,0,0]\n",
        "  count=0\n",
        "  for i in range(4):\n",
        "    if arr[i]=='':\n",
        "      second_lifeline=1\n",
        "    else:\n",
        "      fifty50_options[count]=chr(65+i)\n",
        "      count+=1\n",
        "  r1,r2,r3,r4=0,0,0,0\n",
        "  if second_lifeline:\n",
        "    [r1,r2,r3,r4]=Allote_random(fifty50_options[0],r1,r2,r3,r4,0,100,0,0)\n",
        "    [r1,r2,r3,r4]=Allote_random(fifty50_options[1],r1,r2,r3,r4,0,0,r1+r2+r3+r4,100)\n",
        "    \n",
        "  else:\n",
        "    r1=random.randint(1,50)\n",
        "    r2=random.randint(51,100)-50\n",
        "    r3=50-r1\n",
        "    r4=50-r2\n",
        "  \n",
        "  graph= pd.Series([r1,r2,r3,r4],\n",
        "                  index=['A', 'B', 'C', 'D'])\n",
        "  graph.plot.bar(figsize=(15,5))\n",
        "  plt.xlabel('Options')\n",
        "  plt.ylabel('Percentage')\n",
        "  plt.title(\"Audience Poll\")\n",
        "  plt.show()\n",
        "\n",
        "  print('A.'+str(r1)+'%\\t\\t\\t','B.'+str(r2)+'%\\t\\t\\t','C.'+str(r3)+'%\\t\\t\\t','D.'+str(r4)+'%\\t\\t\\t\\n')\n",
        "  \n",
        "  print(\"Would u like to take any lifeline Again,if yes enter 9\")\n",
        "  print(\"Choose any Option(A/B/C/D) or you can Quit by entering 0\\n\")\n",
        "  return input_validation(Qno,[],[0,1,0])\n"
      ],
      "metadata": {
        "id": "HVrREkmR_9co"
      },
      "execution_count": 70,
      "outputs": []
    },
    {
      "cell_type": "code",
      "source": [
        "def Double_Dip(Qno):\n",
        "  print(\"Double Dip:You can choose answer two times...Other lifelines cannot be used..You cannot Quit Now.\")\n",
        "  print(\"First Chance:\")\n",
        "  global Amount_Gained\n",
        "  count=1\n",
        "  while count<=2:\n",
        "    Double_a1=input().upper()\n",
        "    if Answers[Qno]!=Double_a1:\n",
        "      print(\"Wrong Answer...\\n\")\n",
        "      \n",
        "    elif Answers[Qno]==Double_a1:\n",
        "      Amount_Gained=CashPrizes[Qno]\n",
        "      print('Correct Answer...You won Rs.',+Amount_Gained)\n",
        "      return 1\n",
        "    \n",
        "    if count==1:\n",
        "        print(\"Second Chance:\")\n",
        "    \n",
        "    count+=1\n",
        "    \n",
        "  return 0"
      ],
      "metadata": {
        "id": "RqjXuW5t_9ff"
      },
      "execution_count": 71,
      "outputs": []
    },
    {
      "cell_type": "code",
      "source": [
        "def Choose_Lifeline(Qno,arr,Lifelines_per_question):\n",
        "  print(\"Enter 1 for 50:50, 2 for Audience Poll, 3 for Double Dip\\n\")\n",
        "  while True:\n",
        "    a=int(input())\n",
        "    if a==0:\n",
        "      return 0\n",
        "    elif a==3 and (Lifelines_per_question[0]==1 or Lifelines_per_question[1]==1):\n",
        "      print(\"As per Rules,You cannot use double dip with other lifelines for same question..Check Rule No.9\") \n",
        "    elif Lifelines[a-1]==1:\n",
        "      print(\"Lifeline is already Used...U cannot use it twice\")\n",
        "    elif a>=1 and a<=3:\n",
        "      Lifelines[a-1]=1\n",
        "      if a==1:\n",
        "        return Fifty_50(Qno)\n",
        "      elif a==2:\n",
        "        return Audience_Poll(Qno,arr)\n",
        "      elif a==3:\n",
        "        return Double_Dip(Qno)\n",
        "    else:\n",
        "      print(\"Incorrect Lifeline number...Please check\")\n",
        "      print(\"Do You Want to Quit,if yes enter 0\\n\")\n"
      ],
      "metadata": {
        "id": "qfASS6txyzUg"
      },
      "execution_count": 76,
      "outputs": []
    },
    {
      "cell_type": "code",
      "source": [
        "def input_validation(Qno,arr,Lifelines_per_question):  ##arr for Audience Poll\n",
        "  global Amount_Gained\n",
        "  inp=input().upper()\n",
        "  AG=Check_Answer(inp,Qno)\n",
        "  if inp=='0':\n",
        "    return 0\n",
        "\n",
        "  elif inp>='A' and inp<='D' and AG:\n",
        "    Amount_Gained=AG\n",
        "    print('Correct Answer...You won Rs.',+Amount_Gained)\n",
        "  \n",
        "  elif inp=='9':\n",
        "    print(\"The Lifelines are.... 50:50\\tAudience Poll\\tDouble Dip\\n\")\n",
        "    return Choose_Lifeline(Qno,arr,Lifelines_per_question)\n",
        "\n",
        "  else:\n",
        "    print(\"\\nWrong Answer...Out of the game\")\n",
        "    return 0\n",
        "  return 1\n"
      ],
      "metadata": {
        "id": "54p_7OZxVE4w"
      },
      "execution_count": 73,
      "outputs": []
    },
    {
      "cell_type": "code",
      "source": [
        "Name=input(\"Enter your Name\")\n",
        "print(\"\\nHello\",Name +'!',\"Welcome to Kaun Banega Crorepati\")\n",
        "Qno=0\n",
        "while Qno<15:\n",
        "  Display_Question(Qno)\n",
        "  print(\"\\nWould u like to take any lifeline,if yes enter 9\")\n",
        "  print(\"Choose any Option(A/B/C/D) or you can Quit by entering 0\\n\")\n",
        "  if(not input_validation(Qno,[1,1,1,1],[0,0,0])):\n",
        "    break\n",
        "  Qno+=1\n",
        "\n",
        "if Qno<5:\n",
        "  print(\"Congratulations on your participation in the game! You Won Rs.\",+0)  \n",
        "else:\n",
        "  print(\"Congratulatios,You won Rs.\",+Amount_Gained/2)"
      ],
      "metadata": {
        "colab": {
          "base_uri": "https://localhost:8080/"
        },
        "id": "9S7TmNs_VuvN",
        "outputId": "f7911123-02f2-4347-bba6-e8b51fd3c00a"
      },
      "execution_count": 75,
      "outputs": [
        {
          "output_type": "stream",
          "name": "stdout",
          "text": [
            "Enter your Name\n",
            "\n",
            "Hello ! Welcome to Kaun Banega Crorepati\n",
            "\n",
            "1) Which planet is closest to the Sun?\n",
            "A. Venus\n",
            "B. Earth\n",
            "C. Mars\n",
            "D. Mercury\n",
            "\n",
            "Would u like to take any lifeline,if yes enter 9\n",
            "Choose any Option(A/B/C/D) or you can Quit by entering 0\n",
            "\n",
            "d\n",
            "Correct Answer...You won Rs. 1000\n",
            "\n",
            "2) Who painted the Mona Lisa?\n",
            "A. Leonardo da Vinci\n",
            "B. Vincent van Gogh\n",
            "C. Pablo Picasso\n",
            "D. Michelangelo\n",
            "\n",
            "Would u like to take any lifeline,if yes enter 9\n",
            "Choose any Option(A/B/C/D) or you can Quit by entering 0\n",
            "\n",
            "a\n",
            "Correct Answer...You won Rs. 2000\n",
            "\n",
            "3) What is the largest organ in the human body?\n",
            "A. Liver\n",
            "B. Heart\n",
            "C. Brain\n",
            "D. Skin\n",
            "\n",
            "Would u like to take any lifeline,if yes enter 9\n",
            "Choose any Option(A/B/C/D) or you can Quit by entering 0\n",
            "\n",
            "d\n",
            "Correct Answer...You won Rs. 3000\n",
            "\n",
            "4) What is the capital city of Australia?\n",
            "A. Sydney\n",
            "B. Melbourne\n",
            "C. Canberra\n",
            "D. Perth\n",
            "\n",
            "Would u like to take any lifeline,if yes enter 9\n",
            "Choose any Option(A/B/C/D) or you can Quit by entering 0\n",
            "\n",
            "c\n",
            "Correct Answer...You won Rs. 5000\n",
            "\n",
            "5) What is the currency of Japan?\n",
            "A. Yen\n",
            "B. Rupee\n",
            "C. Euro\n",
            "D. Pound\n",
            "\n",
            "Would u like to take any lifeline,if yes enter 9\n",
            "Choose any Option(A/B/C/D) or you can Quit by entering 0\n",
            "\n",
            "a\n",
            "Correct Answer...You won Rs. 10000\n",
            "\n",
            "6) Who is credited with discovering the law of gravity?\n",
            "A. Isaac Newton\n",
            "B. Albert Einstein\n",
            "C. Galileo Galilei\n",
            "D. Nikola Tesla\n",
            "\n",
            "Would u like to take any lifeline,if yes enter 9\n",
            "Choose any Option(A/B/C/D) or you can Quit by entering 0\n",
            "\n",
            "0\n",
            "Congratulatios,You won Rs. 5000.0\n"
          ]
        }
      ]
    }
  ]
}